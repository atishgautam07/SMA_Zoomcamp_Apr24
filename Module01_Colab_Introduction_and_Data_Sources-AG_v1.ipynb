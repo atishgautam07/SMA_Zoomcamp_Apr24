{
 "cells": [
  {
   "cell_type": "code",
   "execution_count": 6,
   "metadata": {
    "id": "upIkgS85ZLbF"
   },
   "outputs": [],
   "source": [
    "# IMPORTS\n",
    "import numpy as np\n",
    "import pandas as pd\n",
    "\n",
    "#Fin Data Sources\n",
    "import yfinance as yf\n",
    "import pandas_datareader as pdr\n",
    "\n",
    "#Data viz\n",
    "import plotly.graph_objs as go\n",
    "import plotly.express as px\n",
    "\n",
    "import time\n",
    "from datetime import date\n"
   ]
  },
  {
   "cell_type": "code",
   "execution_count": 7,
   "metadata": {
    "colab": {
     "base_uri": "https://localhost:8080/"
    },
    "id": "YneZ9fqHsjU9",
    "outputId": "251d9513-240a-4e6e-f694-0ed1a5fbcf90"
   },
   "outputs": [
    {
     "name": "stdout",
     "output_type": "stream",
     "text": [
      "Year = 2024; month= 4; day=21\n",
      "Period for indexes: 1954-04-21 to 2024-04-21 \n"
     ]
    }
   ],
   "source": [
    "end = date.today()\n",
    "print(f'Year = {end.year}; month= {end.month}; day={end.day}')\n",
    "\n",
    "start = date(year=end.year-70, month=end.month, day=end.day)\n",
    "print(f'Period for indexes: {start} to {end} ')"
   ]
  },
  {
   "cell_type": "markdown",
   "metadata": {
    "id": "ZR5V_n3EsXTu"
   },
   "source": [
    "## Question 1: [Macro] Average growth of GDP in 2023"
   ]
  },
  {
   "cell_type": "code",
   "execution_count": 8,
   "metadata": {
    "id": "Ij7FDH9usZ0E"
   },
   "outputs": [],
   "source": [
    "# Real Gross Domestic Product (GDPC1)\n",
    "gdpc1 = pdr.DataReader(\"GDPC1\", \"fred\", start=start)"
   ]
  },
  {
   "cell_type": "code",
   "execution_count": 9,
   "metadata": {},
   "outputs": [
    {
     "data": {
      "text/html": [
       "<div>\n",
       "<style scoped>\n",
       "    .dataframe tbody tr th:only-of-type {\n",
       "        vertical-align: middle;\n",
       "    }\n",
       "\n",
       "    .dataframe tbody tr th {\n",
       "        vertical-align: top;\n",
       "    }\n",
       "\n",
       "    .dataframe thead th {\n",
       "        text-align: right;\n",
       "    }\n",
       "</style>\n",
       "<table border=\"1\" class=\"dataframe\">\n",
       "  <thead>\n",
       "    <tr style=\"text-align: right;\">\n",
       "      <th></th>\n",
       "      <th>GDPC1</th>\n",
       "    </tr>\n",
       "    <tr>\n",
       "      <th>DATE</th>\n",
       "      <th></th>\n",
       "    </tr>\n",
       "  </thead>\n",
       "  <tbody>\n",
       "    <tr>\n",
       "      <th>1954-07-01</th>\n",
       "      <td>2880.482</td>\n",
       "    </tr>\n",
       "    <tr>\n",
       "      <th>1954-10-01</th>\n",
       "      <td>2936.852</td>\n",
       "    </tr>\n",
       "    <tr>\n",
       "      <th>1955-01-01</th>\n",
       "      <td>3020.746</td>\n",
       "    </tr>\n",
       "    <tr>\n",
       "      <th>1955-04-01</th>\n",
       "      <td>3069.910</td>\n",
       "    </tr>\n",
       "    <tr>\n",
       "      <th>1955-07-01</th>\n",
       "      <td>3111.379</td>\n",
       "    </tr>\n",
       "    <tr>\n",
       "      <th>...</th>\n",
       "      <td>...</td>\n",
       "    </tr>\n",
       "    <tr>\n",
       "      <th>2022-10-01</th>\n",
       "      <td>21989.981</td>\n",
       "    </tr>\n",
       "    <tr>\n",
       "      <th>2023-01-01</th>\n",
       "      <td>22112.329</td>\n",
       "    </tr>\n",
       "    <tr>\n",
       "      <th>2023-04-01</th>\n",
       "      <td>22225.350</td>\n",
       "    </tr>\n",
       "    <tr>\n",
       "      <th>2023-07-01</th>\n",
       "      <td>22490.692</td>\n",
       "    </tr>\n",
       "    <tr>\n",
       "      <th>2023-10-01</th>\n",
       "      <td>22679.255</td>\n",
       "    </tr>\n",
       "  </tbody>\n",
       "</table>\n",
       "<p>278 rows × 1 columns</p>\n",
       "</div>"
      ],
      "text/plain": [
       "                GDPC1\n",
       "DATE                 \n",
       "1954-07-01   2880.482\n",
       "1954-10-01   2936.852\n",
       "1955-01-01   3020.746\n",
       "1955-04-01   3069.910\n",
       "1955-07-01   3111.379\n",
       "...               ...\n",
       "2022-10-01  21989.981\n",
       "2023-01-01  22112.329\n",
       "2023-04-01  22225.350\n",
       "2023-07-01  22490.692\n",
       "2023-10-01  22679.255\n",
       "\n",
       "[278 rows x 1 columns]"
      ]
     },
     "execution_count": 9,
     "metadata": {},
     "output_type": "execute_result"
    }
   ],
   "source": [
    "gdpc1"
   ]
  },
  {
   "cell_type": "code",
   "execution_count": 10,
   "metadata": {
    "colab": {
     "base_uri": "https://localhost:8080/",
     "height": 238
    },
    "id": "LwETzXP9shm2",
    "outputId": "75975165-59ff-4a23-acd4-abdc5d018f44",
    "scrolled": true
   },
   "outputs": [
    {
     "data": {
      "text/html": [
       "<div>\n",
       "<style scoped>\n",
       "    .dataframe tbody tr th:only-of-type {\n",
       "        vertical-align: middle;\n",
       "    }\n",
       "\n",
       "    .dataframe tbody tr th {\n",
       "        vertical-align: top;\n",
       "    }\n",
       "\n",
       "    .dataframe thead th {\n",
       "        text-align: right;\n",
       "    }\n",
       "</style>\n",
       "<table border=\"1\" class=\"dataframe\">\n",
       "  <thead>\n",
       "    <tr style=\"text-align: right;\">\n",
       "      <th></th>\n",
       "      <th>GDPC1</th>\n",
       "      <th>gdpc1_us_yoy</th>\n",
       "      <th>gdpc1_us_qoq</th>\n",
       "    </tr>\n",
       "    <tr>\n",
       "      <th>DATE</th>\n",
       "      <th></th>\n",
       "      <th></th>\n",
       "      <th></th>\n",
       "    </tr>\n",
       "  </thead>\n",
       "  <tbody>\n",
       "    <tr>\n",
       "      <th>2022-10-01</th>\n",
       "      <td>21989.981</td>\n",
       "      <td>0.006517</td>\n",
       "      <td>0.006354</td>\n",
       "    </tr>\n",
       "    <tr>\n",
       "      <th>2023-01-01</th>\n",
       "      <td>22112.329</td>\n",
       "      <td>0.017179</td>\n",
       "      <td>0.005564</td>\n",
       "    </tr>\n",
       "    <tr>\n",
       "      <th>2023-04-01</th>\n",
       "      <td>22225.350</td>\n",
       "      <td>0.023825</td>\n",
       "      <td>0.005111</td>\n",
       "    </tr>\n",
       "    <tr>\n",
       "      <th>2023-07-01</th>\n",
       "      <td>22490.692</td>\n",
       "      <td>0.029269</td>\n",
       "      <td>0.011939</td>\n",
       "    </tr>\n",
       "    <tr>\n",
       "      <th>2023-10-01</th>\n",
       "      <td>22679.255</td>\n",
       "      <td>0.031345</td>\n",
       "      <td>0.008384</td>\n",
       "    </tr>\n",
       "  </tbody>\n",
       "</table>\n",
       "</div>"
      ],
      "text/plain": [
       "                GDPC1  gdpc1_us_yoy  gdpc1_us_qoq\n",
       "DATE                                             \n",
       "2022-10-01  21989.981      0.006517      0.006354\n",
       "2023-01-01  22112.329      0.017179      0.005564\n",
       "2023-04-01  22225.350      0.023825      0.005111\n",
       "2023-07-01  22490.692      0.029269      0.011939\n",
       "2023-10-01  22679.255      0.031345      0.008384"
      ]
     },
     "execution_count": 10,
     "metadata": {},
     "output_type": "execute_result"
    }
   ],
   "source": [
    "gdpc1['gdpc1_us_yoy'] = gdpc1.GDPC1/gdpc1.GDPC1.shift(4)-1\n",
    "gdpc1['gdpc1_us_qoq'] = gdpc1.GDPC1/gdpc1.GDPC1.shift(1)-1\n",
    "gdpc1.tail()"
   ]
  },
  {
   "cell_type": "code",
   "execution_count": 11,
   "metadata": {},
   "outputs": [
    {
     "data": {
      "text/plain": [
       "2.5"
      ]
     },
     "execution_count": 11,
     "metadata": {},
     "output_type": "execute_result"
    }
   ],
   "source": [
    "np.round(gdpc1['gdpc1_us_yoy'].tail(4).mean(),3) *100"
   ]
  },
  {
   "cell_type": "markdown",
   "metadata": {
    "id": "tGBFWT0fAabM"
   },
   "source": [
    "## Question 2. [Macro] Inverse \"Treasury Yield\""
   ]
  },
  {
   "cell_type": "code",
   "execution_count": 12,
   "metadata": {
    "colab": {
     "base_uri": "https://localhost:8080/",
     "height": 238
    },
    "id": "MeZn8feveKzd",
    "outputId": "387b53e9-00de-4e1e-ea52-7d93fbeee1f7"
   },
   "outputs": [
    {
     "name": "stdout",
     "output_type": "stream",
     "text": [
      "1976 1962\n",
      "(12493, 1) (16253, 1)\n",
      "(12493, 2)\n",
      "(6339, 2)\n",
      "-1.1\n"
     ]
    },
    {
     "data": {
      "text/html": [
       "<div>\n",
       "<style scoped>\n",
       "    .dataframe tbody tr th:only-of-type {\n",
       "        vertical-align: middle;\n",
       "    }\n",
       "\n",
       "    .dataframe tbody tr th {\n",
       "        vertical-align: top;\n",
       "    }\n",
       "\n",
       "    .dataframe thead th {\n",
       "        text-align: right;\n",
       "    }\n",
       "</style>\n",
       "<table border=\"1\" class=\"dataframe\">\n",
       "  <thead>\n",
       "    <tr style=\"text-align: right;\">\n",
       "      <th></th>\n",
       "      <th>DGS2</th>\n",
       "      <th>DGS10</th>\n",
       "      <th>InvYield</th>\n",
       "    </tr>\n",
       "    <tr>\n",
       "      <th>DATE</th>\n",
       "      <th></th>\n",
       "      <th></th>\n",
       "      <th></th>\n",
       "    </tr>\n",
       "  </thead>\n",
       "  <tbody>\n",
       "    <tr>\n",
       "      <th>2024-04-12</th>\n",
       "      <td>4.88</td>\n",
       "      <td>4.50</td>\n",
       "      <td>-0.38</td>\n",
       "    </tr>\n",
       "    <tr>\n",
       "      <th>2024-04-15</th>\n",
       "      <td>4.93</td>\n",
       "      <td>4.63</td>\n",
       "      <td>-0.30</td>\n",
       "    </tr>\n",
       "    <tr>\n",
       "      <th>2024-04-16</th>\n",
       "      <td>4.97</td>\n",
       "      <td>4.67</td>\n",
       "      <td>-0.30</td>\n",
       "    </tr>\n",
       "    <tr>\n",
       "      <th>2024-04-17</th>\n",
       "      <td>4.93</td>\n",
       "      <td>4.59</td>\n",
       "      <td>-0.34</td>\n",
       "    </tr>\n",
       "    <tr>\n",
       "      <th>2024-04-18</th>\n",
       "      <td>4.98</td>\n",
       "      <td>4.64</td>\n",
       "      <td>-0.34</td>\n",
       "    </tr>\n",
       "  </tbody>\n",
       "</table>\n",
       "</div>"
      ],
      "text/plain": [
       "            DGS2  DGS10  InvYield\n",
       "DATE                             \n",
       "2024-04-12  4.88   4.50     -0.38\n",
       "2024-04-15  4.93   4.63     -0.30\n",
       "2024-04-16  4.97   4.67     -0.30\n",
       "2024-04-17  4.93   4.59     -0.34\n",
       "2024-04-18  4.98   4.64     -0.34"
      ]
     },
     "execution_count": 12,
     "metadata": {},
     "output_type": "execute_result"
    }
   ],
   "source": [
    "dgs2 = pdr.DataReader(\"DGS2\", \"fred\", start=start)\n",
    "dgs10 = pdr.DataReader(\"DGS10\", \"fred\", start=start)\n",
    "print (dgs2.index.year.min(), dgs10.index.year.min())\n",
    "print (dgs2.shape, dgs10.shape)\n",
    "dgs_2_10 = dgs2.merge(dgs10, how='left', left_index=True, right_index=True)\n",
    "print (dgs_2_10.shape)\n",
    "dgs_2_10 = dgs_2_10[dgs_2_10.index.year >= 2000]\n",
    "print (dgs_2_10.shape)\n",
    "\n",
    "dgs_2_10['InvYield'] = dgs_2_10.DGS10 - dgs_2_10.DGS2\n",
    "print (np.round(dgs_2_10.InvYield.min(), 1))\n",
    "dgs_2_10.tail()"
   ]
  },
  {
   "cell_type": "markdown",
   "metadata": {},
   "source": [
    "Additional: think about what does the \"inverted yield curve\" mean for the market and investors? do you see the same thing in your country/market of interest? Do you think it can be a good predictive feature for the models?"
   ]
  },
  {
   "cell_type": "markdown",
   "metadata": {
    "id": "tGBFWT0fAabM"
   },
   "source": [
    "## Question 3. [Index] Which Index is better recently?"
   ]
  },
  {
   "cell_type": "code",
   "execution_count": 26,
   "metadata": {
    "colab": {
     "base_uri": "https://localhost:8080/"
    },
    "id": "dfvyq769FRIc",
    "outputId": "8b48442f-7b72-49bf-f845-dd4dd6e4d25b",
    "scrolled": true
   },
   "outputs": [
    {
     "name": "stderr",
     "output_type": "stream",
     "text": [
      "[*********************100%%**********************]  1 of 1 completed\n"
     ]
    },
    {
     "data": {
      "text/plain": [
       "81.0"
      ]
     },
     "execution_count": 26,
     "metadata": {},
     "output_type": "execute_result"
    }
   ],
   "source": [
    "snp500_daily = yf.download(tickers = \"^GSPC\",\n",
    "                           period = \"max\",\n",
    "                           interval = \"1d\")\n",
    "snp500_cl_24 = snp500_daily[(snp500_daily.index=='2024-04-09')]['Adj Close'].values[0]\n",
    "snp500_cl_19 = snp500_daily[(snp500_daily.index =='2019-04-09')]['Adj Close'].values[0]\n",
    "snp500_cl_ratio = snp500_cl_24 / snp500_cl_19\n",
    "np.round(100*(snp500_cl_ratio - 1), 0)"
   ]
  },
  {
   "cell_type": "code",
   "execution_count": 27,
   "metadata": {
    "colab": {
     "base_uri": "https://localhost:8080/"
    },
    "id": "dfvyq769FRIc",
    "outputId": "8b48442f-7b72-49bf-f845-dd4dd6e4d25b",
    "scrolled": true
   },
   "outputs": [
    {
     "name": "stderr",
     "output_type": "stream",
     "text": [
      "[*********************100%%**********************]  1 of 1 completed\n"
     ]
    },
    {
     "data": {
      "text/plain": [
       "28.0"
      ]
     },
     "execution_count": 27,
     "metadata": {},
     "output_type": "execute_result"
    }
   ],
   "source": [
    "mxx_daily = yf.download(tickers = \"^MXX\",\n",
    "                           period = \"max\",\n",
    "                           interval = \"1d\")\n",
    "mxx_cl_24 = mxx_daily[(mxx_daily.index=='2024-04-09')]['Adj Close'].values[0]\n",
    "mxx_cl_19 = mxx_daily[(mxx_daily.index =='2019-04-09')]['Adj Close'].values[0]\n",
    "mxx_cl_ratio = mxx_cl_24 / mxx_cl_19\n",
    "np.round(100*(mxx_cl_ratio - 1), 0)"
   ]
  },
  {
   "cell_type": "markdown",
   "metadata": {},
   "source": [
    "Additional: think of other indexes and try to download stats and compare the growth? Do create 10Y and 20Y growth stats. What is an average yearly growth rate (CAGR) for each of the indexes you select?"
   ]
  },
  {
   "cell_type": "markdown",
   "metadata": {
    "id": "kLXxhy_7F7C5"
   },
   "source": [
    "## Question 4. [Stocks OHLCV] 52-weeks range ratio (2023) for the selected stocks"
   ]
  },
  {
   "cell_type": "code",
   "execution_count": 28,
   "metadata": {
    "colab": {
     "base_uri": "https://localhost:8080/"
    },
    "id": "Q5Td0K__Ft80",
    "outputId": "62fc7792-6a62-436e-9e9c-c47a6a583e44"
   },
   "outputs": [
    {
     "name": "stderr",
     "output_type": "stream",
     "text": [
      "[*********************100%%**********************]  1 of 1 completed\n"
     ]
    },
    {
     "name": "stdout",
     "output_type": "stream",
     "text": [
      "2222.SR 0.21\n"
     ]
    },
    {
     "name": "stderr",
     "output_type": "stream",
     "text": [
      "[*********************100%%**********************]  1 of 1 completed\n"
     ]
    },
    {
     "name": "stdout",
     "output_type": "stream",
     "text": [
      "BRK-B 0.21\n"
     ]
    },
    {
     "name": "stderr",
     "output_type": "stream",
     "text": [
      "[*********************100%%**********************]  1 of 1 completed\n"
     ]
    },
    {
     "name": "stdout",
     "output_type": "stream",
     "text": [
      "AAPL 0.37\n"
     ]
    },
    {
     "name": "stderr",
     "output_type": "stream",
     "text": [
      "[*********************100%%**********************]  1 of 1 completed\n"
     ]
    },
    {
     "name": "stdout",
     "output_type": "stream",
     "text": [
      "MSFT 0.42\n"
     ]
    },
    {
     "name": "stderr",
     "output_type": "stream",
     "text": [
      "[*********************100%%**********************]  1 of 1 completed\n"
     ]
    },
    {
     "name": "stdout",
     "output_type": "stream",
     "text": [
      "GOOG 0.39\n"
     ]
    },
    {
     "name": "stderr",
     "output_type": "stream",
     "text": [
      "\r",
      "[*********************100%%**********************]  1 of 1 completed"
     ]
    },
    {
     "name": "stdout",
     "output_type": "stream",
     "text": [
      "JPM 0.28\n"
     ]
    },
    {
     "name": "stderr",
     "output_type": "stream",
     "text": [
      "\n"
     ]
    }
   ],
   "source": [
    "def calcYearlyRatio(tckr, yr):\n",
    "    dfTckr = yf.download(tickers = tckr,\n",
    "                     period = \"max\",\n",
    "                     interval = \"1d\")\n",
    "    mx = dfTckr.loc[dfTckr.index.year==yr, 'Adj Close'].max()\n",
    "    mn = dfTckr.loc[dfTckr.index.year==yr, 'Adj Close'].min()\n",
    "    return (np.round((1 - (mn/mx)),2))\n",
    "\n",
    "for tck in ['2222.SR','BRK-B','AAPL','MSFT','GOOG','JPM']:\n",
    "    print (tck, calcYearlyRatio(tck, 2023))"
   ]
  },
  {
   "cell_type": "markdown",
   "metadata": {},
   "source": [
    "#### Additional: why this may be important for your research? - High market cap stocks which haven't grown much in the past year might have a higher probability of giving high returns compared to stocks which have already a high ratio in the past year (or compared to a benchmark)."
   ]
  },
  {
   "cell_type": "markdown",
   "metadata": {
    "id": "kLXxhy_7F7C5"
   },
   "source": [
    "## Question 5. [Stocks] Dividend Yield"
   ]
  },
  {
   "cell_type": "code",
   "execution_count": 29,
   "metadata": {
    "colab": {
     "base_uri": "https://localhost:8080/"
    },
    "id": "Q5Td0K__Ft80",
    "outputId": "62fc7792-6a62-436e-9e9c-c47a6a583e44"
   },
   "outputs": [
    {
     "name": "stderr",
     "output_type": "stream",
     "text": [
      "[*********************100%%**********************]  1 of 1 completed\n"
     ]
    },
    {
     "name": "stdout",
     "output_type": "stream",
     "text": [
      "2222.SR 0.9\n"
     ]
    },
    {
     "name": "stderr",
     "output_type": "stream",
     "text": [
      "[*********************100%%**********************]  1 of 1 completed\n"
     ]
    },
    {
     "name": "stdout",
     "output_type": "stream",
     "text": [
      "BRK-B nan\n"
     ]
    },
    {
     "name": "stderr",
     "output_type": "stream",
     "text": [
      "[*********************100%%**********************]  1 of 1 completed\n"
     ]
    },
    {
     "name": "stdout",
     "output_type": "stream",
     "text": [
      "AAPL 0.1\n"
     ]
    },
    {
     "name": "stderr",
     "output_type": "stream",
     "text": [
      "[*********************100%%**********************]  1 of 1 completed\n"
     ]
    },
    {
     "name": "stdout",
     "output_type": "stream",
     "text": [
      "MSFT 0.2\n"
     ]
    },
    {
     "name": "stderr",
     "output_type": "stream",
     "text": [
      "[*********************100%%**********************]  1 of 1 completed\n"
     ]
    },
    {
     "name": "stdout",
     "output_type": "stream",
     "text": [
      "GOOG nan\n"
     ]
    },
    {
     "name": "stderr",
     "output_type": "stream",
     "text": [
      "[*********************100%%**********************]  1 of 1 completed\n"
     ]
    },
    {
     "name": "stdout",
     "output_type": "stream",
     "text": [
      "JPM 0.6\n"
     ]
    }
   ],
   "source": [
    "def calcYearlyDivY(tckr, yr):\n",
    "    dfTckr = yf.download(tickers = tckr,\n",
    "                     period = \"max\",\n",
    "                     interval = \"1d\")\n",
    "    dfDiv = yf.Ticker(tckr).get_actions()\n",
    "    divSum = dfDiv.loc[dfDiv.index.year==yr, 'Dividends'].max()\n",
    "    close = dfTckr.loc[dfTckr.index.year==yr, 'Adj Close'].values[-1]\n",
    "    return (np.round((divSum/close)*100, 1))\n",
    "\n",
    "for tck in ['2222.SR','BRK-B','AAPL','MSFT','GOOG','JPM']:\n",
    "    print (tck, calcYearlyDivY(tck, 2023))"
   ]
  },
  {
   "cell_type": "markdown",
   "metadata": {
    "id": "kLXxhy_7F7C5"
   },
   "source": [
    "## Question 6. [Exploratory] Investigate new metrics"
   ]
  },
  {
   "cell_type": "code",
   "execution_count": 31,
   "metadata": {},
   "outputs": [
    {
     "name": "stderr",
     "output_type": "stream",
     "text": [
      "[*********************100%%**********************]  1 of 1 completed\n",
      "[*********************100%%**********************]  1 of 1 completed\n",
      "[*********************100%%**********************]  1 of 1 completed\n",
      "[*********************100%%**********************]  1 of 1 completed\n",
      "[*********************100%%**********************]  1 of 1 completed\n",
      "[*********************100%%**********************]  1 of 1 completed\n",
      "[*********************100%%**********************]  1 of 1 completed\n",
      "[*********************100%%**********************]  1 of 1 completed\n",
      "[*********************100%%**********************]  1 of 1 completed\n",
      "[*********************100%%**********************]  1 of 1 completed\n",
      "[*********************100%%**********************]  1 of 1 completed\n",
      "[*********************100%%**********************]  1 of 1 completed\n",
      "[*********************100%%**********************]  1 of 1 completed\n",
      "[*********************100%%**********************]  1 of 1 completed\n",
      "[*********************100%%**********************]  1 of 1 completed\n",
      "[*********************100%%**********************]  1 of 1 completed\n",
      "[*********************100%%**********************]  1 of 1 completed\n",
      "[*********************100%%**********************]  1 of 1 completed\n",
      "[*********************100%%**********************]  1 of 1 completed\n",
      "[*********************100%%**********************]  1 of 1 completed\n"
     ]
    },
    {
     "data": {
      "text/html": [
       "<div>\n",
       "<style scoped>\n",
       "    .dataframe tbody tr th:only-of-type {\n",
       "        vertical-align: middle;\n",
       "    }\n",
       "\n",
       "    .dataframe tbody tr th {\n",
       "        vertical-align: top;\n",
       "    }\n",
       "\n",
       "    .dataframe thead th {\n",
       "        text-align: right;\n",
       "    }\n",
       "</style>\n",
       "<table border=\"1\" class=\"dataframe\">\n",
       "  <thead>\n",
       "    <tr style=\"text-align: right;\">\n",
       "      <th></th>\n",
       "      <th>Tckr</th>\n",
       "      <th>Corr</th>\n",
       "      <th>percBuy</th>\n",
       "    </tr>\n",
       "  </thead>\n",
       "  <tbody>\n",
       "    <tr>\n",
       "      <th>0</th>\n",
       "      <td>AMZN</td>\n",
       "      <td>99.1</td>\n",
       "      <td>94.9</td>\n",
       "    </tr>\n",
       "    <tr>\n",
       "      <th>0</th>\n",
       "      <td>WMT</td>\n",
       "      <td>95.6</td>\n",
       "      <td>76.7</td>\n",
       "    </tr>\n",
       "    <tr>\n",
       "      <th>0</th>\n",
       "      <td>NVDA</td>\n",
       "      <td>84.1</td>\n",
       "      <td>77.7</td>\n",
       "    </tr>\n",
       "    <tr>\n",
       "      <th>0</th>\n",
       "      <td>MSFT</td>\n",
       "      <td>79.5</td>\n",
       "      <td>88.9</td>\n",
       "    </tr>\n",
       "    <tr>\n",
       "      <th>0</th>\n",
       "      <td>LLY</td>\n",
       "      <td>71.2</td>\n",
       "      <td>68.4</td>\n",
       "    </tr>\n",
       "    <tr>\n",
       "      <th>0</th>\n",
       "      <td>TSM</td>\n",
       "      <td>59.3</td>\n",
       "      <td>57.5</td>\n",
       "    </tr>\n",
       "    <tr>\n",
       "      <th>0</th>\n",
       "      <td>KO</td>\n",
       "      <td>41.8</td>\n",
       "      <td>65.1</td>\n",
       "    </tr>\n",
       "    <tr>\n",
       "      <th>0</th>\n",
       "      <td>GOOG</td>\n",
       "      <td>30.7</td>\n",
       "      <td>85.8</td>\n",
       "    </tr>\n",
       "    <tr>\n",
       "      <th>0</th>\n",
       "      <td>UBER</td>\n",
       "      <td>24.6</td>\n",
       "      <td>92.9</td>\n",
       "    </tr>\n",
       "    <tr>\n",
       "      <th>0</th>\n",
       "      <td>WFC</td>\n",
       "      <td>1.0</td>\n",
       "      <td>52.5</td>\n",
       "    </tr>\n",
       "    <tr>\n",
       "      <th>0</th>\n",
       "      <td>CSCO</td>\n",
       "      <td>-16.3</td>\n",
       "      <td>38.8</td>\n",
       "    </tr>\n",
       "    <tr>\n",
       "      <th>0</th>\n",
       "      <td>MS</td>\n",
       "      <td>-23.9</td>\n",
       "      <td>43.4</td>\n",
       "    </tr>\n",
       "    <tr>\n",
       "      <th>0</th>\n",
       "      <td>AAPL</td>\n",
       "      <td>-38.0</td>\n",
       "      <td>74.2</td>\n",
       "    </tr>\n",
       "    <tr>\n",
       "      <th>0</th>\n",
       "      <td>INTC</td>\n",
       "      <td>-47.3</td>\n",
       "      <td>31.6</td>\n",
       "    </tr>\n",
       "    <tr>\n",
       "      <th>0</th>\n",
       "      <td>BAC</td>\n",
       "      <td>-55.5</td>\n",
       "      <td>63.2</td>\n",
       "    </tr>\n",
       "    <tr>\n",
       "      <th>0</th>\n",
       "      <td>META</td>\n",
       "      <td>-59.5</td>\n",
       "      <td>85.7</td>\n",
       "    </tr>\n",
       "    <tr>\n",
       "      <th>0</th>\n",
       "      <td>CMCSA</td>\n",
       "      <td>-61.1</td>\n",
       "      <td>68.9</td>\n",
       "    </tr>\n",
       "    <tr>\n",
       "      <th>0</th>\n",
       "      <td>VZ</td>\n",
       "      <td>-71.0</td>\n",
       "      <td>35.9</td>\n",
       "    </tr>\n",
       "    <tr>\n",
       "      <th>0</th>\n",
       "      <td>BRK-B</td>\n",
       "      <td>-73.5</td>\n",
       "      <td>54.2</td>\n",
       "    </tr>\n",
       "  </tbody>\n",
       "</table>\n",
       "</div>"
      ],
      "text/plain": [
       "    Tckr  Corr  percBuy\n",
       "0   AMZN  99.1     94.9\n",
       "0    WMT  95.6     76.7\n",
       "0   NVDA  84.1     77.7\n",
       "0   MSFT  79.5     88.9\n",
       "0    LLY  71.2     68.4\n",
       "0    TSM  59.3     57.5\n",
       "0     KO  41.8     65.1\n",
       "0   GOOG  30.7     85.8\n",
       "0   UBER  24.6     92.9\n",
       "0    WFC   1.0     52.5\n",
       "0   CSCO -16.3     38.8\n",
       "0     MS -23.9     43.4\n",
       "0   AAPL -38.0     74.2\n",
       "0   INTC -47.3     31.6\n",
       "0    BAC -55.5     63.2\n",
       "0   META -59.5     85.7\n",
       "0  CMCSA -61.1     68.9\n",
       "0     VZ -71.0     35.9\n",
       "0  BRK-B -73.5     54.2"
      ]
     },
     "execution_count": 31,
     "metadata": {},
     "output_type": "execute_result"
    }
   ],
   "source": [
    "import datetime\n",
    "def analystEstim(tckr):\n",
    "    dfRec = yf.Ticker(tckr).recommendations.set_index('period')\n",
    "    dfRec['Total'] = dfRec.sum(axis=1)\n",
    "    dfRec['SB'] = (dfRec['strongBuy']) / dfRec['Total']\n",
    "    dfRec['B'] = (dfRec['strongBuy']+dfRec['buy']) / dfRec['Total']\n",
    "    dfRec['H'] = (dfRec['hold']) / dfRec['Total']\n",
    "    dfRec['S'] = (dfRec['strongSell']+dfRec['sell']) / dfRec['Total']\n",
    "    dfRec = dfRec.loc[:,['SB','B','H','S']]    \n",
    "    \n",
    "    dfTckr = yf.download(tickers = tckr,\n",
    "                         period = \"max\",\n",
    "                         interval = \"1d\")\n",
    "    lastDate = dfTckr.index.max()\n",
    "    dfRec['prChng'] = [(dfTckr.loc[dfTckr.index==lastDate, 'Adj Close'].values[0] / dfTckr.loc[dfTckr.index==lastDate-datetime.timedelta(days=30), 'Adj Close'].values[0]) - 1,\n",
    "                       (dfTckr.loc[dfTckr.index==lastDate-datetime.timedelta(days=30), 'Adj Close'].values[0] / dfTckr.loc[dfTckr.index==lastDate-datetime.timedelta(days=63), 'Adj Close'].values[0]) - 1,\n",
    "                       (dfTckr.loc[dfTckr.index==lastDate-datetime.timedelta(days=63), 'Adj Close'].values[0] / dfTckr.loc[dfTckr.index==lastDate-datetime.timedelta(days=91), 'Adj Close'].values[0]) - 1,\n",
    "                       (dfTckr.loc[dfTckr.index==lastDate-datetime.timedelta(days=91), 'Adj Close'].values[0] / dfTckr.loc[dfTckr.index==lastDate-datetime.timedelta(days=120), 'Adj Close'].values[0]) - 1\n",
    "                      ]\n",
    "    return dfRec\n",
    "\n",
    "dfCorrMatrix = pd.DataFrame(columns = ['Tckr','Corr','percBuy'])\n",
    "#['WMT', 'BAC', 'KO', 'WFC', 'CSCO', 'VZ', 'CMCSA', 'INTC', 'UBER','MS']\n",
    "for tc in ['MSFT', 'AAPL', 'NVDA', 'GOOG', '2222.SR', 'AMZN', 'META', 'BRK-B','TSM', 'LLY',\n",
    "           'WMT', 'BAC', 'KO', 'WFC', 'CSCO', 'VZ', 'CMCSA', 'INTC', 'UBER','MS']:\n",
    "    dftmp = analystEstim(tc)\n",
    "    dfCorrMatrix = pd.concat([dfCorrMatrix, \n",
    "                              pd.DataFrame({'Tckr':[tc],\n",
    "                                            'Corr':[np.round(dftmp.corr().loc['B','prChng'], 3) * 100],\n",
    "                                            'percBuy':[np.round(dftmp['B'].mean(), 3)*100]})])\n",
    "dfCorrMatrix.dropna().sort_values(['Corr',],ascending=False)"
   ]
  },
  {
   "cell_type": "code",
   "execution_count": 32,
   "metadata": {},
   "outputs": [
    {
     "data": {
      "text/plain": [
       "<Axes: xlabel='Tckr'>"
      ]
     },
     "execution_count": 32,
     "metadata": {},
     "output_type": "execute_result"
    },
    {
     "data": {
      "image/png": "[encoded data removed]",
      "text/plain": [
       "<Figure size 640x480 with 1 Axes>"
      ]
     },
     "metadata": {},
     "output_type": "display_data"
    }
   ],
   "source": [
    "dfCorrMatrix.dropna().sort_values(['Corr',],ascending=False).set_index('Tckr').plot()"
   ]
  },
  {
   "cell_type": "markdown",
   "metadata": {},
   "source": [
    "### New metric analysed - analyst price estimates/upgrades/downgrades. I analysed the change in stock prices over last 3 months and its correlation with the analyst Buy/StrongBuy percentages. A very high correlation has beed observed in most of the stocks but due to lack of data points (4 months) it cant be conclusively said that a very significant buy prediction by analysts will always lead to a increase in stock prices. There are many other stocks where even after very high buy recommendation the stock prices are observed to fall. A further deep dive into type of stock (fundamentals) and correlation analysis on significant data points can help us identify stocks with a higher degree of confidence."
   ]
  },
  {
   "cell_type": "markdown",
   "metadata": {
    "id": "kLXxhy_7F7C5"
   },
   "source": [
    "## Question 7. [Exploratory] Time-driven strategy description around earnings releases"
   ]
  },
  {
   "cell_type": "markdown",
   "metadata": {},
   "source": [
    "### A very basic strategy around the dates of earnings report would be to pick stocks with good fundamentals and a high EPS. We can analyse the performance of stocks around the earning dates as to which type of stocks (if any) responds positively almost everytime to a positive EPS or surprise factor, accordingly invest in such stocks with good fundamentals. We can further look retrospectively to estimate, with a certain degree of confidence, average return expected in next 3-6 months from earning date."
   ]
  },
  {
   "cell_type": "code",
   "execution_count": null,
   "metadata": {},
   "outputs": [],
   "source": []
  }
 ],
 "metadata": {
  "colab": {
   "collapsed_sections": [
    "_sMONMJHjXkM"
   ],
   "provenance": []
  },
  "kernelspec": {
   "display_name": "Python 3 (ipykernel)",
   "language": "python",
   "name": "python3"
  },
  "language_info": {
   "codemirror_mode": {
    "name": "ipython",
    "version": 3
   },
   "file_extension": ".py",
   "mimetype": "text/x-python",
   "name": "python",
   "nbconvert_exporter": "python",
   "pygments_lexer": "ipython3",
   "version": "3.10.8"
  }
 },
 "nbformat": 4,
 "nbformat_minor": 1
}
